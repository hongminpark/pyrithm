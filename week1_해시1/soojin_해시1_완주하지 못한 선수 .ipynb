"""collections.Counter(participant) - collections.Counter(completion)
하면 value 0 인 애들은 안 보임 """


{
 "cells": [
  {
   "cell_type": "markdown",
   "metadata": {},
   "source": [
    "풀이1"
   ]
  },
  {
   "cell_type": "code",
   "execution_count": 34,
   "metadata": {},
   "outputs": [],
   "source": [
    "def solution1(participant, completion):\n",
    "    part = participant[:] #변수 그대로 넣으면 remove할 때 part1, part2,part3에서도 같이 remove됨. 같은 변수 가리키므로. \n",
    "    for com_member in completion:\n",
    "        if com_member in part:\n",
    "            part.remove(com_member)  #comp 이 part에 없으면, remove 에러남\n",
    "    return part[0]"
   ]
  },
  {
   "cell_type": "markdown",
   "metadata": {},
   "source": [
    "풀이2 (모범 답안 참고)"
   ]
  },
  {
   "cell_type": "code",
   "execution_count": 20,
   "metadata": {},
   "outputs": [],
   "source": [
    "import collections\n",
    "def solution2(participant, completion):\n",
    "    answer = ''\n",
    "    in_comp = collections.Counter(participant) - collections.Counter(completion)\n",
    "    answer = list(in_comp.keys())[0]\n",
    "    return answer"
   ]
  },
  {
   "cell_type": "code",
   "execution_count": 35,
   "metadata": {},
   "outputs": [],
   "source": [
    "part1, comp1 = ['leo', 'kiki', 'eden'],['eden', 'kiki'] #leo \n",
    "part2, comp2 = ['marina', 'josipa', 'nikola', 'vinko', 'filipa'],['josipa', 'filipa', 'marina', 'nikola'] #vinko\n",
    "part3, comp3  = ['mislav', 'stanko', 'mislav', 'ana'], ['stanko', 'ana', 'mislav'] #mislav"
   ]
  },
  {
   "cell_type": "code",
   "execution_count": 23,
   "metadata": {},
   "outputs": [
    {
     "name": "stdout",
     "output_type": "stream",
     "text": [
      "Counter()\n"
     ]
    }
   ],
   "source": [
    "print(collections.Counter(part3)-collections.Counter(comp3))"
   ]
  },
  {
   "cell_type": "markdown",
   "metadata": {},
   "source": [
    "풀이1_테스트 "
   ]
  },
  {
   "cell_type": "code",
   "execution_count": 36,
   "metadata": {},
   "outputs": [
    {
     "name": "stdout",
     "output_type": "stream",
     "text": [
      "leo\n",
      "vinko\n",
      "mislav\n"
     ]
    }
   ],
   "source": [
    "print(solution1(part1,comp1))\n",
    "print(solution1(part2,comp2))\n",
    "print(solution1(part3,comp3))"
   ]
  },
  {
   "cell_type": "markdown",
   "metadata": {},
   "source": [
    "풀이2_테스트 "
   ]
  },
  {
   "cell_type": "code",
   "execution_count": 38,
   "metadata": {},
   "outputs": [
    {
     "name": "stdout",
     "output_type": "stream",
     "text": [
      "leo\n",
      "vinko\n",
      "mislav\n"
     ]
    }
   ],
   "source": [
    "print(solution2(part1,comp1))\n",
    "print(solution2(part2,comp2))\n",
    "print(solution2(part3,comp3))"
   ]
  }
 ],
 "metadata": {
  "kernelspec": {
   "display_name": "Python 3",
   "language": "python",
   "name": "python3"
  },
  "language_info": {
   "codemirror_mode": {
    "name": "ipython",
    "version": 3
   },
   "file_extension": ".py",
   "mimetype": "text/x-python",
   "name": "python",
   "nbconvert_exporter": "python",
   "pygments_lexer": "ipython3",
   "version": "3.6.5"
  }
 },
 "nbformat": 4,
 "nbformat_minor": 2
}
